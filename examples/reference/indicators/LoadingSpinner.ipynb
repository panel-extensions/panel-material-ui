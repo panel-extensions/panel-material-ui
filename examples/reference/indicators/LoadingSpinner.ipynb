{
 "cells": [
  {
   "cell_type": "code",
   "execution_count": null,
   "metadata": {},
   "outputs": [],
   "source": [
    "import panel as pn\n",
    "import panel_material_ui as pmui\n",
    "from panel_material_ui import LoadingSpinner\n",
    "\n",
    "pn.extension()"
   ]
  },
  {
   "cell_type": "markdown",
   "metadata": {},
   "source": [
    "Progress indicators commonly known as spinners, express an unspecified wait time or display the length of a process.\n",
    "\n",
    "Progress indicators inform users about the status of ongoing processes, such as loading an app, submitting a form, or saving updates.\n",
    "\n",
    "- **Determinate** indicators display how long an operation will take.\n",
    "- **Indeterminate** indicators visualize an unspecified wait time.\n",
    "\n",
    "This component is essential for creating responsive user interfaces that keep users informed during data processing, file uploads, API calls, and other time-consuming operations.\n",
    "\n",
    "For an alternative progress indicator see [`Progress`](Progress.ipynb).\n",
    "\n",
    "#### Parameters:\n",
    "\n",
    "For details on other options for customizing the component see the [customization guides](https://panel-material-ui.holoviz.org/customization/index.html).\n",
    "\n",
    "##### Core\n",
    "\n",
    "* **`value`** (boolean): Whether the indicator is spinning or not.\n",
    "* **`variant`** (`Literal[\"determinate\", \"indeterminate\"]`)\n",
    "\n",
    "##### Display\n",
    "\n",
    "* **`bgcolor`** (`Literal['light', 'dark'] | None`): The color of spinner background segment, either 'light', 'dark' or None.\n",
    "* **`color`** (str): The color of the spinning segment, one of 'primary', 'secondary', 'success', 'info', 'warn', 'danger', 'light', 'dark'\n",
    "* **`label`** (str): A label to display alongside the spinner.\n",
    "* **`size`** (int): The size of the spinner in pixels.\n",
    "* **`thickness`** (float): The thickness of the loading spinner.\n",
    "* **`with_label`** (boolean): Whether to show a label inside the loading spinner (when using the 'determinate' variant).\n",
    "\n",
    "##### Styling\n",
    "\n",
    "- **`sx`** (dict): Component level styling API.\n",
    "- **`theme_config`** (dict): Theming API.\n",
    "\n",
    "##### Aliases\n",
    "\n",
    "For compatibility with Panel certain parameters are allowed as aliases:\n",
    "\n",
    "- **`name`**: Alias for `label`\n",
    "\n",
    "___"
   ]
  },
  {
   "cell_type": "markdown",
   "metadata": {},
   "source": [
    "## Basic Usage\n",
    "\n",
    "By default, the `LoadingSpinner` is initialized in a determinate, non-spinning state."
   ]
  },
  {
   "cell_type": "code",
   "execution_count": null,
   "metadata": {},
   "outputs": [],
   "source": [
    "LoadingSpinner(height=40)"
   ]
  },
  {
   "cell_type": "markdown",
   "metadata": {},
   "source": [
    "You may instantiate it in an indeterminate, spinning state:"
   ]
  },
  {
   "cell_type": "code",
   "execution_count": null,
   "metadata": {},
   "outputs": [],
   "source": [
    "LoadingSpinner(value=True, height=40)"
   ]
  },
  {
   "cell_type": "markdown",
   "metadata": {},
   "source": [
    "### Size\n",
    "\n",
    "You may change the `size` of the LoadingSpinner:"
   ]
  },
  {
   "cell_type": "code",
   "execution_count": null,
   "metadata": {},
   "outputs": [],
   "source": [
    "LoadingSpinner(value=True, size=100, height=115)"
   ]
  },
  {
   "cell_type": "markdown",
   "metadata": {},
   "source": [
    "### Thickness\n",
    "\n",
    "You may change the thickness of the LoadingSpinner:"
   ]
  },
  {
   "cell_type": "code",
   "execution_count": null,
   "metadata": {},
   "outputs": [],
   "source": [
    "LoadingSpinner(value=True, size=50, thickness=10, height=55)"
   ]
  },
  {
   "cell_type": "markdown",
   "metadata": {},
   "source": [
    "### Color and Background\n",
    "\n",
    "You can change the `color` and `bgcolor` of the spinner:"
   ]
  },
  {
   "cell_type": "code",
   "execution_count": null,
   "metadata": {},
   "outputs": [],
   "source": [
    "LoadingSpinner(value=True, color=\"warning\", bgcolor=\"dark\", height=40)"
   ]
  },
  {
   "cell_type": "markdown",
   "metadata": {},
   "source": [
    "Lets see the full range of `color`s and `bgcolor`s:"
   ]
  },
  {
   "cell_type": "code",
   "execution_count": null,
   "metadata": {},
   "outputs": [],
   "source": [
    "grid = pn.GridBox(*[' ']+LoadingSpinner.param.color.objects, nrows=4)\n",
    "\n",
    "for bgcolor in LoadingSpinner.param.bgcolor.objects:\n",
    "    grid.append(bgcolor or 'None')\n",
    "    for color in LoadingSpinner.param.color.objects:\n",
    "        spinner = LoadingSpinner(size=40, value=True, bgcolor=bgcolor, color=color)\n",
    "        grid.append(spinner)\n",
    "\n",
    "grid"
   ]
  },
  {
   "cell_type": "markdown",
   "metadata": {},
   "source": [
    "### Determinate\n",
    "\n",
    "When using the `determinate` variant you can use a `LoadingSpinner` like the `Progress` element:"
   ]
  },
  {
   "cell_type": "code",
   "execution_count": null,
   "metadata": {},
   "outputs": [],
   "source": [
    "LoadingSpinner(value=60, variant='determinate', height=40, width=40)"
   ]
  },
  {
   "cell_type": "markdown",
   "metadata": {},
   "source": [
    "### Determinate with Label\n",
    "\n",
    "You may also enable a label with `with_label`:"
   ]
  },
  {
   "cell_type": "code",
   "execution_count": null,
   "metadata": {},
   "outputs": [],
   "source": [
    "LoadingSpinner(value=42, variant='determinate', bgcolor='light', size=60, with_label=True)"
   ]
  }
 ],
 "metadata": {
  "kernelspec": {
   "display_name": "Python 3 (ipykernel)",
   "language": "python",
   "name": "python3"
  },
  "language_info": {
   "codemirror_mode": {
    "name": "ipython",
    "version": 3
   },
   "file_extension": ".py",
   "mimetype": "text/x-python",
   "name": "python",
   "nbconvert_exporter": "python",
   "pygments_lexer": "ipython3",
   "version": "3.12.9"
  }
 },
 "nbformat": 4,
 "nbformat_minor": 4
}
