{
 "cells": [
  {
   "cell_type": "code",
   "execution_count": null,
   "id": "763b3af3",
   "metadata": {},
   "outputs": [],
   "source": [
    "import panel as pn\n",
    "import panel_material_ui as pmui\n",
    "\n",
    "pn.extension()"
   ]
  },
  {
   "cell_type": "markdown",
   "id": "d035619c",
   "metadata": {},
   "source": [
    "The `LiteralInput` widget allows entering any valid Python literal (such as a number, string, list, dict, or tuple) using a text input box. This is useful for quickly entering and editing Python objects in dashboards and notebooks.\n",
    "\n",
    "You can optionally set a `type` to validate the literal before updating the parameter. The `serializer` parameter lets you choose between Python's `ast.literal_eval` (default) and JSON serialization for parsing and formatting values.\n",
    "\n",
    "#### Parameters:\n",
    "- **`value`**: The current value, parsed as a Python literal.\n",
    "- **`value_input`**: The current value as a string, updated on every key press.\n",
    "- **`type`**: The expected Python type (e.g., `dict`, `list`, `tuple`, `int`, `float`, `bool`, `str`).\n",
    "- **`serializer`**: The serialization method to use (`'ast'` or `'json'`).\n",
    "- **`label`**: The title of the widget.\n",
    "- **`placeholder`**: A placeholder string displayed when no value is entered.\n",
    "- **`error_state`**: Indicates if the input could not be parsed as a valid literal.\n",
    "\n",
    "For more details on customization, see the [customization guides](https://panel-material-ui.holoviz.org/customization/index.html), [layout](https://panel.holoviz.org/how_to/layout/index.html), and [styling](https://panel.holoviz.org/how_to/styling/index.html) how-to guides.\n",
    "\n",
    "___"
   ]
  },
  {
   "cell_type": "markdown",
   "id": "c80d1d9a",
   "metadata": {},
   "source": [
    "### Basic Usage\n",
    "\n",
    "The `LiteralInput` widget can be used to enter any valid Python literal. For example, you can enter a number, a string, a list, a dictionary, or a tuple"
   ]
  },
  {
   "cell_type": "code",
   "execution_count": null,
   "id": "7fcaf820",
   "metadata": {},
   "outputs": [],
   "source": [
    "pmui.LiteralInput(label='Enter a literal', placeholder='e.g. 42, [1,2,3], {\"a\": 1}')"
   ]
  },
  {
   "cell_type": "code",
   "execution_count": null,
   "id": "cbb985dc-0ebf-4192-a685-7b8208682dae",
   "metadata": {},
   "outputs": [],
   "source": [
    "Optionally, you can specify the expected `type` and the `serializer` method (either `'ast'` for Python literals or `'json'` for JSON data).                        "
   ]
  },
  {
   "cell_type": "code",
   "execution_count": null,
   "id": "5f4e8126-6e4b-4480-bbfa-bb6dabd82ef1",
   "metadata": {},
   "outputs": [],
   "source": [
    "ast_input = pmui.LiteralInput(label='Enter a literal', type=dict, serializer=\"ast\", value={'a': 1}, placeholder='e.g. 42, [1,2,3], {\"a\": 1}')\n",
    "json_input = pmui.LiteralInput(label='Enter a literal', type=dict, serializer=\"json\", value={'a': 1}, placeholder='e.g. 42, [1,2,3], {\"a\": 1}')\n",
    "\n",
    "def to_type(value):\n",
    "    return str(type(value))\n",
    "\n",
    "pmui.Row(\n",
    "    pmui.Column(ast_input, pn.pane.Str(ast_input.param.value)),\n",
    "    pmui.Column(json_input, pn.pane.Str(json_input.param.value)),\n",
    ")"
   ]
  },
  {
   "cell_type": "markdown",
   "id": "7606db5b",
   "metadata": {},
   "source": [
    "### Error State\n",
    "\n",
    "If the input cannot be parsed as a valid Python literal, the widget will indicate an error state."
   ]
  },
  {
   "cell_type": "code",
   "execution_count": null,
   "id": "1e18c88c",
   "metadata": {},
   "outputs": [],
   "source": [
    "pmui.LiteralInput(label='Invalid input', type=dict, value={}) # TODO: change value to [] once support for initial invalid values have been added"
   ]
  },
  {
   "cell_type": "markdown",
   "id": "662f44ff-476a-425a-b5c9-9beaf69d6717",
   "metadata": {},
   "source": [
    "Try changing the value to `[}`."
   ]
  },
  {
   "cell_type": "markdown",
   "id": "8561a540",
   "metadata": {},
   "source": [
    "### DictInput, ListInput, and TupleInput\n",
    "\n",
    "Specialized versions of `LiteralInput` are available for entering dictionaries, lists, and tuples. These widgets ensure the value is always of the expected type."
   ]
  },
  {
   "cell_type": "code",
   "execution_count": null,
   "id": "73e2a5e7",
   "metadata": {},
   "outputs": [],
   "source": [
    "pmui.DictInput(label='Enter a dictionary', placeholder=\"e.g. {'a': 1, 'b': 2}\")"
   ]
  },
  {
   "cell_type": "code",
   "execution_count": null,
   "id": "26df0ba3",
   "metadata": {},
   "outputs": [],
   "source": [
    "pmui.ListInput(label='Enter a list', placeholder='e.g. [1, 2, 3]')"
   ]
  },
  {
   "cell_type": "code",
   "execution_count": null,
   "id": "08e28196",
   "metadata": {},
   "outputs": [],
   "source": [
    "pmui.TupleInput(label='Enter a tuple', placeholder='e.g. (1, 2, 3)')"
   ]
  },
  {
   "cell_type": "markdown",
   "id": "c9170b5f",
   "metadata": {},
   "source": [
    "### API Reference\n",
    "\n",
    "#### Parameters\n",
    "\n",
    "The `LiteralInput` exposes a number of options which can be changed from both Python and Javascript. Try out the effect of these parameters interactively:\n",
    "\n",
    "You can use the `.api(jslink=True)` method or the `.controls(jslink=True)` method to interactively adjust parameters and see their effect."
   ]
  },
  {
   "cell_type": "code",
   "execution_count": null,
   "id": "2bf4cb5f",
   "metadata": {},
   "outputs": [],
   "source": [
    "pmui.LiteralInput(label='LiteralInput').api(jslink=True)\n",
    "# Or use controls to adjust parameters interactively\n",
    "pn.Row(pmui.LiteralInput(label='LiteralInput').controls(jslink=True), pmui.LiteralInput(label='LiteralInput'))"
   ]
  },
  {
   "cell_type": "markdown",
   "id": "cd6937e0",
   "metadata": {},
   "source": [
    "### References\n",
    "\n",
    "**Panel Documentation:**\n",
    "\n",
    "- [How-to guides on interactivity](https://panel.holoviz.org/how_to/interactivity/index.html)\n",
    "- [Setting up callbacks and links](https://panel.holoviz.org/how_to/links/index.html)\n",
    "- [Declarative UIs with Param](https://panel.holoviz.org/how_to/param/index.html)\n",
    "\n",
    "**Material UI TextField:**\n",
    "\n",
    "- [Material UI TextField Reference](https://mui.com/material-ui/react-text-field)\n",
    "- [Material UI TextField API](https://mui.com/material-ui/api/text-field/)"
   ]
  }
 ],
 "metadata": {
  "kernelspec": {
   "display_name": "Python 3 (ipykernel)",
   "language": "python",
   "name": "python3"
  },
  "language_info": {
   "codemirror_mode": {
    "name": "ipython",
    "version": 3
   },
   "file_extension": ".py",
   "mimetype": "text/x-python",
   "name": "python",
   "nbconvert_exporter": "python",
   "pygments_lexer": "ipython3",
   "version": "3.13.2"
  }
 },
 "nbformat": 4,
 "nbformat_minor": 5
}
